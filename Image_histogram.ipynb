{
 "cells": [
  {
   "cell_type": "code",
   "execution_count": null,
   "id": "9029b813-4fd8-4400-b27f-70dc9d578661",
   "metadata": {},
   "outputs": [],
   "source": [
    "import numpy as np # linear algebra\n",
    "import pandas as pd # data processing, CSV file I/O (e.g. pd.read_csv)\n",
    "import matplotlib.pyplot as plt\n",
    "import cv2\n",
    "import os\n",
    "from torchvision.io import read_image\n",
    "import torchvision.transforms as T\n",
    "import torch"
   ]
  },
  {
   "cell_type": "code",
   "execution_count": null,
   "id": "70cee6b3-1dc7-4c49-a502-4a3cfaefe1cd",
   "metadata": {},
   "outputs": [],
   "source": [
    "df = pd.read_csv('../input/nyu-depth-v2/nyu_data/data/nyu2_train.csv', dtype='str')"
   ]
  },
  {
   "cell_type": "code",
   "execution_count": null,
   "id": "11c906c5-847e-4384-8005-e5762b274e2f",
   "metadata": {},
   "outputs": [],
   "source": [
    "df.head()"
   ]
  },
  {
   "cell_type": "code",
   "execution_count": null,
   "id": "79df225b-0d9b-4cd4-874c-2aea4145c49d",
   "metadata": {},
   "outputs": [],
   "source": [
    "# Sample\n",
    "sample = df.iloc[0][0]"
   ]
  },
  {
   "cell_type": "code",
   "execution_count": null,
   "id": "065fc679-44f3-445e-89c7-356134d11533",
   "metadata": {},
   "outputs": [],
   "source": [
    "img_path = os.path.join('../input/nyu-depth-v2/nyu_data', sample)"
   ]
  },
  {
   "cell_type": "code",
   "execution_count": null,
   "id": "bb6055c9-bce1-46dd-a70f-54de23216de7",
   "metadata": {},
   "outputs": [],
   "source": [
    "plt.imshow(cv2.imread(img_path))"
   ]
  },
  {
   "cell_type": "code",
   "execution_count": null,
   "id": "51bd8127-ddc0-4e1f-a066-982fff745d6f",
   "metadata": {},
   "outputs": [],
   "source": [
    "img = read_image(img_path)"
   ]
  },
  {
   "cell_type": "code",
   "execution_count": null,
   "id": "3bf4b96a-6ef2-4df7-86eb-f8ba0d4f11bf",
   "metadata": {},
   "outputs": [],
   "source": [
    "img = img.permute(1, 2, 0).numpy()\n",
    "print(img.shape)\n",
    "img"
   ]
  },
  {
   "cell_type": "code",
   "execution_count": null,
   "id": "bf0b9d5f-c37b-4310-97c3-2c9092de9dea",
   "metadata": {},
   "outputs": [],
   "source": [
    "feature_trans = T.Compose([\n",
    "                T.ToPILImage(),\n",
    "                T.Resize(size = (228, 304)),\n",
    "                T.ToTensor(),\n",
    "                T.Normalize((0., 0., 0.), (1., 1. , 1.))\n",
    "                ])"
   ]
  },
  {
   "cell_type": "code",
   "execution_count": null,
   "id": "d58a2971-e4f1-4062-8655-be24f298c108",
   "metadata": {},
   "outputs": [],
   "source": [
    "img_transform = feature_trans(img)"
   ]
  },
  {
   "cell_type": "code",
   "execution_count": null,
   "id": "2583593b-e982-4e26-8e00-a9a6f5f973ba",
   "metadata": {},
   "outputs": [],
   "source": [
    "img_transform = img_transform.permute(1, 2, 0).numpy()\n",
    "print(img_transform.shape)\n",
    "img_transform"
   ]
  },
  {
   "cell_type": "code",
   "execution_count": null,
   "id": "615c19b1-6775-4311-97af-1169d72ec3d5",
   "metadata": {},
   "outputs": [],
   "source": [
    "color = ('r','g','b')\n",
    "plt.figure(figsize=(8, 4))\n",
    "for i,col in enumerate(color):\n",
    "    histr = cv2.calcHist([img],[i],None,[256],[0,256])\n",
    "    plt.plot(histr,color = col)\n",
    "    plt.xlim([0,256])\n",
    "\n",
    "\n",
    "plt.title(\"Color Histogram Before Transform\")\n",
    "plt.xlabel(\"Color value\")\n",
    "plt.ylabel(\"Pixel count\")\n",
    "plt.show()"
   ]
  },
  {
   "cell_type": "code",
   "execution_count": null,
   "id": "ca1e4d09-4902-4189-ae42-11b843027944",
   "metadata": {},
   "outputs": [],
   "source": [
    "# Distribution by color channel\n",
    "red_hist = cv2.calcHist([img], [0], None, [256], [0, 255])\n",
    "green_hist = cv2.calcHist([img], [1], None, [256], [0, 255])\n",
    "blue_hist = cv2.calcHist([img], [2], None, [256], [0, 255])\n",
    "\n",
    "plt.figure(figsize=(8, 8))\n",
    "plt.subplot(4, 1, 1)\n",
    "plt.imshow(img)\n",
    "plt.title('image')\n",
    "plt.xticks([])\n",
    "plt.yticks([])\n",
    "\n",
    "plt.subplot(4, 1, 2)\n",
    "plt.plot(red_hist, color='r')\n",
    "plt.xlim([0, 255])\n",
    "plt.title('red histogram')\n",
    "\n",
    "plt.subplot(4, 1, 3)\n",
    "plt.plot(green_hist, color='g')\n",
    "plt.xlim([0, 255])\n",
    "plt.title('green histogram')\n",
    "\n",
    "plt.subplot(4, 1, 4)\n",
    "plt.plot(blue_hist, color='b')\n",
    "plt.xlim([0, 255])\n",
    "plt.title('blue histogram')\n",
    "\n",
    "plt.tight_layout()\n",
    "plt.show()"
   ]
  },
  {
   "cell_type": "code",
   "execution_count": null,
   "id": "997287fc-969b-422d-9997-ba286766a0da",
   "metadata": {},
   "outputs": [],
   "source": [
    "color = ('r','g','b')\n",
    "\n",
    "plt.figure(figsize=(8, 4))\n",
    "plt.xlim([0.0, 1.0])\n",
    "for i,col in enumerate(color):\n",
    "    histogram, bin_edges = np.histogram(img_transform[:, :, i], bins=256, range=(0, 1))\n",
    "    plt.plot(bin_edges[0:-1], histogram, color=col)\n",
    "\n",
    "plt.title(\"Color Histogram After Transform\")\n",
    "plt.xlabel(\"Color value\")\n",
    "plt.ylabel(\"Pixel count\")"
   ]
  },
  {
   "cell_type": "code",
   "execution_count": null,
   "id": "f53a8aae-8e5d-46ed-8d42-03ec505f8825",
   "metadata": {},
   "outputs": [],
   "source": [
    "# Distribution by color channel\n",
    "red_hist = cv2.calcHist([img_transform], [0], None, [256], [0, 1])\n",
    "green_hist = cv2.calcHist([img_transform], [1], None, [256], [0, 1])\n",
    "blue_hist = cv2.calcHist([img_transform], [2], None, [256], [0, 1])\n",
    "\n",
    "plt.figure(figsize=(8, 8))\n",
    "plt.subplot(4, 1, 1)\n",
    "plt.imshow(img_transform)\n",
    "plt.title('image')\n",
    "plt.xticks([])\n",
    "plt.yticks([])\n",
    "\n",
    "plt.subplot(4, 1, 2)\n",
    "plt.plot(red_hist, color='r')\n",
    "plt.xlim([0, 1])\n",
    "plt.title('red histogram')\n",
    "\n",
    "plt.subplot(4, 1, 3)\n",
    "plt.plot(green_hist, color='g')\n",
    "plt.xlim([0, 1])\n",
    "plt.title('green histogram')\n",
    "\n",
    "plt.subplot(4, 1, 4)\n",
    "plt.plot(blue_hist, color='b')\n",
    "plt.xlim([0, 1])\n",
    "plt.title('blue histogram')\n",
    "\n",
    "plt.tight_layout()\n",
    "plt.show()"
   ]
  }
 ],
 "metadata": {
  "kernelspec": {
   "display_name": "Python 3 (ipykernel)",
   "language": "python",
   "name": "python3"
  },
  "language_info": {
   "codemirror_mode": {
    "name": "ipython",
    "version": 3
   },
   "file_extension": ".py",
   "mimetype": "text/x-python",
   "name": "python",
   "nbconvert_exporter": "python",
   "pygments_lexer": "ipython3",
   "version": "3.11.4"
  }
 },
 "nbformat": 4,
 "nbformat_minor": 5
}
